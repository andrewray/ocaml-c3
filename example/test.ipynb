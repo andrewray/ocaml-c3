{
  "worksheets": [
    {
      "cells": [
        {
          "source": [
            "C3 Charting Library"
          ],
          "metadata": {},
          "cell_type": "heading",
          "level": 1
        },
        {
          "source": [
            "Demonstration of the [OCaml](https://github.com/djs55/ocaml-c3) binding to the [C3](http://c3js.org/) charting library.\n",
            "\n",
            "A binding between the C3 chart types and the notebook display facilities are provided by an experimental C3_notebook extension library.  The types `C3.Line.t`, `C3.Pie.t` and `C3.Gauge.t` are automatically displayed in the cell output area.  A further function `C3_notebook.render_line` embeds an initial chart that can be dynamically updated with the `C3.Line.update` and `C3.Line.flow` functions."
          ],
          "metadata": {},
          "cell_type": "markdown"
        },
        {
          "source": [
            "Multi-Chart"
          ],
          "metadata": {},
          "cell_type": "heading",
          "level": 2
        },
        {
          "outputs": [],
          "input": [
            "C3.Line.make ~kind:`XY ()\n",
            "|> C3.Line.add\n",
            "   ~segment:(C3.Segment.make ~kind:`Bar\n",
            "             ~points:[ 0.1,0.1; 0.2,0.1; 0.3,0.1; 0.4,0.1; 0.5,0.1]\n",
            "             ~label:\"Bar\" ())\n",
            "|> C3.Line.add\n",
            "   ~segment:(C3.Segment.make ~kind:`Line\n",
            "             ~points:[ 0.1,0.5; 0.2,0.4; 0.3,0.3; 0.4,0.2; 0.5,0.1]\n",
            "             ~label:\"Line\" ())\n",
            "|> C3.Line.add_group\n",
            "   ~segments: [ C3.Segment.make ~kind:`Area_step\n",
            "                ~points:[ 0.1,0.1; 0.2,0.2; 0.3,0.3; 0.4,0.2; 0.5,0.1]\n",
            "                ~label:\"Area_step 1\" ();\n",
            "                C3.Segment.make ~kind:`Area_step\n",
            "                ~points:[ 0.1,0.1; 0.2,0.2; 0.3,0.3; 0.4,0.2; 0.5,0.1]\n",
            "                ~label:\"Area_step 2\" (); ]"
          ],
          "metadata": {},
          "cell_type": "code",
          "language": "python",
          "collapsed": false
        },
        {
          "source": [
            "XY Chart"
          ],
          "metadata": {},
          "cell_type": "heading",
          "level": 2
        },
        {
          "outputs": [],
          "input": [
            "let xychart kind = \n",
            "  C3.Line.make ~kind:`XY ()\n",
            "  |> C3.Line.add\n",
            "       ~segment:(C3.Segment.make ~kind ~points:[0.1,0.1; 0.2,0.2; 0.3,0.3; 0.4,0.2; 0.5,0.1]\n",
            "             ~label:(C3.Segment.string_of_kind kind) ())"
          ],
          "metadata": {},
          "cell_type": "code",
          "language": "python",
          "collapsed": false
        },
        {
          "outputs": [],
          "input": [
            "xychart `Line"
          ],
          "metadata": {},
          "cell_type": "code",
          "language": "python",
          "collapsed": false
        },
        {
          "outputs": [],
          "input": [
            "xychart `Area"
          ],
          "metadata": {},
          "cell_type": "code",
          "language": "python",
          "collapsed": false
        },
        {
          "outputs": [],
          "input": [
            "xychart `Area_step"
          ],
          "metadata": {},
          "cell_type": "code",
          "language": "python",
          "collapsed": false
        },
        {
          "outputs": [],
          "input": [
            "xychart `Spline"
          ],
          "metadata": {},
          "cell_type": "code",
          "language": "python",
          "collapsed": false
        },
        {
          "source": [
            "Pie Chart"
          ],
          "metadata": {},
          "cell_type": "heading",
          "level": 2
        },
        {
          "outputs": [],
          "input": [
            "let pie donut = \n",
            "  C3.Pie.make\n",
            "    ?hole:(if donut then Some \"hello\" else None)\n",
            "    ~sectors:[ \"a\", 30.; \"b\", 120.; \"c\", 15.; \"d\", 90. ] ()"
          ],
          "metadata": {},
          "cell_type": "code",
          "language": "python",
          "collapsed": false
        },
        {
          "outputs": [],
          "input": [
            "pie true"
          ],
          "metadata": {},
          "cell_type": "code",
          "language": "python",
          "collapsed": false
        },
        {
          "outputs": [],
          "input": [
            "pie false"
          ],
          "metadata": {},
          "cell_type": "code",
          "language": "python",
          "collapsed": false
        },
        {
          "source": [
            "Gauge"
          ],
          "metadata": {},
          "cell_type": "heading",
          "level": 2
        },
        {
          "outputs": [],
          "input": [
            "C3.Gauge.make\n",
            "  ~thresholds:[ 30., \"#FF0000\"; 60., \"#F97600\"; 90., \"#F6C600\"; 100., \"#60B044\" ]\n",
            "  ~label:\"hello\"\n",
            "  ~value:60.\n",
            "  ()"
          ],
          "metadata": {},
          "cell_type": "code",
          "language": "python",
          "collapsed": false
        },
        {
          "source": [
            "Normal distribution"
          ],
          "metadata": {},
          "cell_type": "heading",
          "level": 2
        },
        {
          "outputs": [],
          "input": [
            "module Histogram = struct\n",
            "  type t = {\n",
            "    bins: int array;\n",
            "    start: float;\n",
            "    width: float;\n",
            "  }\n",
            "  let make ~start ~width ~n () =\n",
            "    let bins = Array.make n 0 in\n",
            "    { start; width; bins }\n",
            "  let add ~value t =\n",
            "    try\n",
            "      (* Discard values which are out of range *)\n",
            "      let bin = int_of_float ((value -. t.start) /. t.width) in\n",
            "      t.bins.(bin) <- t.bins.(bin) + 1\n",
            "    with _ -> ()\n",
            "  let to_segment t =\n",
            "    let points =\n",
            "      t.bins\n",
            "      |> Array.to_list\n",
            "      |> List.mapi (fun idx v -> let t = float_of_int idx *. t.width +. t.start in t,float_of_int v) in\n",
            "\n",
            "    C3.Segment.make ~label:\"histogram\" ~points ~kind:`Bar ()\n",
            "end\n",
            "\n",
            "let pi = 4.0 *. atan(1.0)\n",
            "\n",
            "let h = Histogram.make ~start:(-1.) ~width:0.01 ~n:200 () \n",
            "let chart =\n",
            "  C3.Line.make ~kind:`XY ()\n",
            "  |> C3.Line.add ~segment:(Histogram.to_segment h)\n",
            "  |> C3_notebook.render_line \n",
            "\n",
            "let sd = 0.1\n",
            "\n",
            "let _ = \n",
            "  let open Lwt in\n",
            "  let rec loop iterations =\n",
            "    for i = 0 to 250 do\n",
            "      let u_1 = Random.float 1. in\n",
            "      let u_2 = Random.float 1. in\n",
            "      (* Box-Muller transform *)\n",
            "      let z_0 = sqrt (-2.0 *. log(u_1)) *. cos(2. *. pi *. u_2) *. sd in\n",
            "      let z_1 = sqrt (-2.0 *. log(u_1)) *. sin(2. *. pi *. u_2) *. sd in\n",
            "      Histogram.add ~value:z_0 h;\n",
            "      Histogram.add ~value:z_1 h;\n",
            "    done;\n",
            "    C3.Line.update ~segments:[ Histogram.to_segment h ] chart;\n",
            "    Lwt_js.sleep 1.\n",
            "    >>= fun () ->\n",
            "    loop (iterations + 1) \n",
            "  in\n",
            "  loop 0"
          ],
          "metadata": {},
          "cell_type": "code",
          "language": "python",
          "collapsed": false
        },
        {
          "source": [
            "Time series"
          ],
          "metadata": {},
          "cell_type": "heading",
          "level": 2
        },
        {
          "outputs": [],
          "input": [
            "let chart =\n",
            "  C3.Line.make ~kind:`Timeseries ~x_format:\"%m/%d\" ()\n",
            "  |> C3_notebook.render_line \n",
            "\n",
            "let rec update_graph_forever chart t () =\n",
            "  let open Lwt in\n",
            "  if t > 10. then Lwt.return ()\n",
            "  else begin\n",
            "    C3.Line.flow ~segments:[ C3.Segment.make ~label:\"sin(t)\" ~points:[t, sin t]\n",
            "                               ~kind:`Area_step () ]\n",
            "                   ~flow_to:(`Delete 0)\n",
            "                   chart;\n",
            "    Lwt_js.sleep 0.1\n",
            "    >>= fun () ->\n",
            "    update_graph_forever chart (t +. 0.1) ()\n",
            "  end\n",
            "\n",
            "let _ = update_graph_forever chart 0. ()"
          ],
          "metadata": {},
          "cell_type": "code",
          "language": "python",
          "collapsed": false
        }
      ],
      "metadata": {}
    }
  ],
  "metadata": { "name": "", "language": "ocaml" },
  "nbformat": 3,
  "nbformat_minor": 0
}